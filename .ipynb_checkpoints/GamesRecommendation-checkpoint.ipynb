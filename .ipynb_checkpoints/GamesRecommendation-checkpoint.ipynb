{
 "cells": [
  {
   "cell_type": "code",
   "execution_count": 1,
   "id": "35495366-bdc7-4e9c-8a34-20acb5d2f3c7",
   "metadata": {},
   "outputs": [
    {
     "name": "stdout",
     "output_type": "stream",
     "text": [
      "C:\\Users\\Izzah Alia\\anaconda3\\python.exe\n"
     ]
    }
   ],
   "source": [
    "import sys\n",
    "print(sys.executable)"
   ]
  },
  {
   "cell_type": "code",
   "execution_count": 2,
   "id": "ec3ab79a-1976-4aed-8a7d-3491ab331609",
   "metadata": {},
   "outputs": [
    {
     "name": "stdout",
     "output_type": "stream",
     "text": [
      "Requirement already satisfied: numpy in c:\\users\\izzah alia\\anaconda3\\lib\\site-packages (1.26.4)Note: you may need to restart the kernel to use updated packages.\n",
      "\n"
     ]
    }
   ],
   "source": [
    "pip install numpy"
   ]
  },
  {
   "cell_type": "code",
   "execution_count": 3,
   "id": "ee07eda5-e175-4e6e-a8de-3749707fba46",
   "metadata": {},
   "outputs": [
    {
     "name": "stdout",
     "output_type": "stream",
     "text": [
      "Requirement already satisfied: pandas in c:\\users\\izzah alia\\anaconda3\\lib\\site-packages (2.2.2)\n",
      "Requirement already satisfied: numpy>=1.26.0 in c:\\users\\izzah alia\\anaconda3\\lib\\site-packages (from pandas) (1.26.4)\n",
      "Requirement already satisfied: python-dateutil>=2.8.2 in c:\\users\\izzah alia\\anaconda3\\lib\\site-packages (from pandas) (2.9.0.post0)\n",
      "Requirement already satisfied: pytz>=2020.1 in c:\\users\\izzah alia\\anaconda3\\lib\\site-packages (from pandas) (2024.1)\n",
      "Requirement already satisfied: tzdata>=2022.7 in c:\\users\\izzah alia\\anaconda3\\lib\\site-packages (from pandas) (2023.3)\n",
      "Requirement already satisfied: six>=1.5 in c:\\users\\izzah alia\\anaconda3\\lib\\site-packages (from python-dateutil>=2.8.2->pandas) (1.16.0)\n",
      "Note: you may need to restart the kernel to use updated packages.\n"
     ]
    }
   ],
   "source": [
    "pip install pandas"
   ]
  },
  {
   "cell_type": "code",
   "execution_count": 4,
   "id": "ace479c6-7561-4a70-88fa-0a474b265c6c",
   "metadata": {},
   "outputs": [
    {
     "name": "stdout",
     "output_type": "stream",
     "text": [
      "Requirement already satisfied: matplotlib in c:\\users\\izzah alia\\anaconda3\\lib\\site-packages (3.8.4)\n",
      "Requirement already satisfied: contourpy>=1.0.1 in c:\\users\\izzah alia\\anaconda3\\lib\\site-packages (from matplotlib) (1.2.0)\n",
      "Requirement already satisfied: cycler>=0.10 in c:\\users\\izzah alia\\anaconda3\\lib\\site-packages (from matplotlib) (0.11.0)\n",
      "Requirement already satisfied: fonttools>=4.22.0 in c:\\users\\izzah alia\\anaconda3\\lib\\site-packages (from matplotlib) (4.51.0)\n",
      "Requirement already satisfied: kiwisolver>=1.3.1 in c:\\users\\izzah alia\\anaconda3\\lib\\site-packages (from matplotlib) (1.4.4)\n",
      "Requirement already satisfied: numpy>=1.21 in c:\\users\\izzah alia\\anaconda3\\lib\\site-packages (from matplotlib) (1.26.4)\n",
      "Requirement already satisfied: packaging>=20.0 in c:\\users\\izzah alia\\anaconda3\\lib\\site-packages (from matplotlib) (23.2)\n",
      "Requirement already satisfied: pillow>=8 in c:\\users\\izzah alia\\anaconda3\\lib\\site-packages (from matplotlib) (10.3.0)\n",
      "Requirement already satisfied: pyparsing>=2.3.1 in c:\\users\\izzah alia\\anaconda3\\lib\\site-packages (from matplotlib) (3.0.9)\n",
      "Requirement already satisfied: python-dateutil>=2.7 in c:\\users\\izzah alia\\anaconda3\\lib\\site-packages (from matplotlib) (2.9.0.post0)\n",
      "Requirement already satisfied: six>=1.5 in c:\\users\\izzah alia\\anaconda3\\lib\\site-packages (from python-dateutil>=2.7->matplotlib) (1.16.0)\n",
      "Note: you may need to restart the kernel to use updated packages.\n"
     ]
    }
   ],
   "source": [
    "pip install matplotlib"
   ]
  },
  {
   "cell_type": "code",
   "execution_count": 5,
   "id": "bb5aab33-588b-48f4-b738-a2311db3b3ff",
   "metadata": {},
   "outputs": [],
   "source": [
    "import numpy as np\n",
    "import pandas as pd\n",
    "import matplotlib.pyplot as plt\n",
    "import os"
   ]
  },
  {
   "cell_type": "code",
   "execution_count": 6,
   "id": "10194ec5-b81e-431c-a7cb-5f55eab3cfb7",
   "metadata": {},
   "outputs": [],
   "source": [
    "games = pd.read_csv('data/computer_games.csv')"
   ]
  },
  {
   "cell_type": "code",
   "execution_count": 7,
   "id": "bfece054-c8fb-4707-84c7-59c949f9dfa9",
   "metadata": {},
   "outputs": [
    {
     "data": {
      "text/html": [
       "<div>\n",
       "<style scoped>\n",
       "    .dataframe tbody tr th:only-of-type {\n",
       "        vertical-align: middle;\n",
       "    }\n",
       "\n",
       "    .dataframe tbody tr th {\n",
       "        vertical-align: top;\n",
       "    }\n",
       "\n",
       "    .dataframe thead th {\n",
       "        text-align: right;\n",
       "    }\n",
       "</style>\n",
       "<table border=\"1\" class=\"dataframe\">\n",
       "  <thead>\n",
       "    <tr style=\"text-align: right;\">\n",
       "      <th></th>\n",
       "      <th>Name</th>\n",
       "      <th>Developer</th>\n",
       "      <th>Producer</th>\n",
       "      <th>Genre</th>\n",
       "      <th>Operating System</th>\n",
       "      <th>Date Released</th>\n",
       "    </tr>\n",
       "  </thead>\n",
       "  <tbody>\n",
       "    <tr>\n",
       "      <th>0</th>\n",
       "      <td>A-Men 2</td>\n",
       "      <td>Bloober Team</td>\n",
       "      <td>Bloober Team</td>\n",
       "      <td>Adventure, Puzzle</td>\n",
       "      <td>Microsoft Windows</td>\n",
       "      <td>June 24, 2015</td>\n",
       "    </tr>\n",
       "    <tr>\n",
       "      <th>1</th>\n",
       "      <td>A-Train</td>\n",
       "      <td>Artdink</td>\n",
       "      <td>Artdink, Maxis, Ocean Software</td>\n",
       "      <td>Vehicle Simulation Game</td>\n",
       "      <td>Windows, Mac</td>\n",
       "      <td>1985</td>\n",
       "    </tr>\n",
       "    <tr>\n",
       "      <th>2</th>\n",
       "      <td>A-10 Cuba!</td>\n",
       "      <td>Parsoft Interactive</td>\n",
       "      <td>Activision</td>\n",
       "      <td>Flight simulator</td>\n",
       "      <td>Windows, Mac</td>\n",
       "      <td>November 30, 1996</td>\n",
       "    </tr>\n",
       "    <tr>\n",
       "      <th>3</th>\n",
       "      <td>A.D. 2044</td>\n",
       "      <td>R.M.P. Software</td>\n",
       "      <td>LK Avalon</td>\n",
       "      <td>Adventure</td>\n",
       "      <td>Microsoft Windows</td>\n",
       "      <td>September 6, 1996</td>\n",
       "    </tr>\n",
       "    <tr>\n",
       "      <th>4</th>\n",
       "      <td>A.D.A.M. Life's Greatest Mysteries</td>\n",
       "      <td>Columbia Healthcare Corporation</td>\n",
       "      <td>Columbia Healthcare Corporation</td>\n",
       "      <td>Educational</td>\n",
       "      <td>Microsoft Windows</td>\n",
       "      <td>1996</td>\n",
       "    </tr>\n",
       "  </tbody>\n",
       "</table>\n",
       "</div>"
      ],
      "text/plain": [
       "                                 Name                        Developer  \\\n",
       "0                             A-Men 2                     Bloober Team   \n",
       "1                             A-Train                          Artdink   \n",
       "2                          A-10 Cuba!              Parsoft Interactive   \n",
       "3                           A.D. 2044                  R.M.P. Software   \n",
       "4  A.D.A.M. Life's Greatest Mysteries  Columbia Healthcare Corporation   \n",
       "\n",
       "                          Producer                    Genre  \\\n",
       "0                     Bloober Team        Adventure, Puzzle   \n",
       "1   Artdink, Maxis, Ocean Software  Vehicle Simulation Game   \n",
       "2                       Activision         Flight simulator   \n",
       "3                        LK Avalon                Adventure   \n",
       "4  Columbia Healthcare Corporation              Educational   \n",
       "\n",
       "    Operating System      Date Released  \n",
       "0  Microsoft Windows      June 24, 2015  \n",
       "1       Windows, Mac               1985  \n",
       "2       Windows, Mac  November 30, 1996  \n",
       "3  Microsoft Windows  September 6, 1996  \n",
       "4  Microsoft Windows               1996  "
      ]
     },
     "execution_count": 7,
     "metadata": {},
     "output_type": "execute_result"
    }
   ],
   "source": [
    "games.head(5)"
   ]
  },
  {
   "cell_type": "code",
   "execution_count": 8,
   "id": "37ba15a1-4543-4ebb-ab81-e84fd300aa8c",
   "metadata": {},
   "outputs": [
    {
     "data": {
      "text/plain": [
       "(1095, 6)"
      ]
     },
     "execution_count": 8,
     "metadata": {},
     "output_type": "execute_result"
    }
   ],
   "source": [
    "games.shape"
   ]
  },
  {
   "cell_type": "code",
   "execution_count": 9,
   "id": "ea19dcd1-7706-416b-bdeb-16004d01d4bb",
   "metadata": {},
   "outputs": [
    {
     "data": {
      "text/plain": [
       "Genre\n",
       "First-person shooter                                 103\n",
       "RTS                                                   48\n",
       "Action-adventure                                      42\n",
       "Sports                                                34\n",
       "Role-playing                                          33\n",
       "                                                    ... \n",
       "Tower defense, action RPG                              1\n",
       "Roguelike, indie                                       1\n",
       "Construction and management simulation, Roguelike      1\n",
       "4X                                                     1\n",
       "Adventure game                                         1\n",
       "Name: count, Length: 282, dtype: int64"
      ]
     },
     "execution_count": 9,
     "metadata": {},
     "output_type": "execute_result"
    }
   ],
   "source": [
    "games['Genre'].value_counts()"
   ]
  },
  {
   "cell_type": "code",
   "execution_count": 10,
   "id": "1f5707ab-8776-4c5b-8190-a5cf1d085537",
   "metadata": {},
   "outputs": [
    {
     "data": {
      "text/plain": [
       "Index(['Name', 'Developer', 'Producer', 'Genre', 'Operating System',\n",
       "       'Date Released'],\n",
       "      dtype='object')"
      ]
     },
     "execution_count": 10,
     "metadata": {},
     "output_type": "execute_result"
    }
   ],
   "source": [
    "games.columns"
   ]
  },
  {
   "cell_type": "code",
   "execution_count": 11,
   "id": "0cc0c6f0-2043-4e14-a262-872494c67a1d",
   "metadata": {},
   "outputs": [
    {
     "data": {
      "text/plain": [
       "Name                0\n",
       "Developer           0\n",
       "Producer            0\n",
       "Genre               0\n",
       "Operating System    0\n",
       "Date Released       0\n",
       "dtype: int64"
      ]
     },
     "execution_count": 11,
     "metadata": {},
     "output_type": "execute_result"
    }
   ],
   "source": [
    "games.isnull().sum()"
   ]
  },
  {
   "cell_type": "code",
   "execution_count": 12,
   "id": "900d22a9-bd66-4d0c-b61f-ac04bb094e90",
   "metadata": {},
   "outputs": [
    {
     "data": {
      "text/plain": [
       "0"
      ]
     },
     "execution_count": 12,
     "metadata": {},
     "output_type": "execute_result"
    }
   ],
   "source": [
    "games.duplicated().sum()"
   ]
  },
  {
   "cell_type": "code",
   "execution_count": 13,
   "id": "b9d3ae23-1538-4c54-a5c9-e0e9eacd6189",
   "metadata": {},
   "outputs": [
    {
     "data": {
      "text/plain": [
       "Name                          A-Men 2\n",
       "Developer                Bloober Team\n",
       "Producer                 Bloober Team\n",
       "Genre               Adventure, Puzzle\n",
       "Operating System    Microsoft Windows\n",
       "Date Released           June 24, 2015\n",
       "Name: 0, dtype: object"
      ]
     },
     "execution_count": 13,
     "metadata": {},
     "output_type": "execute_result"
    }
   ],
   "source": [
    "games.iloc[0]"
   ]
  },
  {
   "cell_type": "code",
   "execution_count": 14,
   "id": "ce881781-4dba-48b4-992a-657e6d28d6c1",
   "metadata": {
    "scrolled": true
   },
   "outputs": [
    {
     "data": {
      "text/html": [
       "<div>\n",
       "<style scoped>\n",
       "    .dataframe tbody tr th:only-of-type {\n",
       "        vertical-align: middle;\n",
       "    }\n",
       "\n",
       "    .dataframe tbody tr th {\n",
       "        vertical-align: top;\n",
       "    }\n",
       "\n",
       "    .dataframe thead th {\n",
       "        text-align: right;\n",
       "    }\n",
       "</style>\n",
       "<table border=\"1\" class=\"dataframe\">\n",
       "  <thead>\n",
       "    <tr style=\"text-align: right;\">\n",
       "      <th></th>\n",
       "      <th>Name</th>\n",
       "      <th>Developer</th>\n",
       "      <th>Producer</th>\n",
       "      <th>Genre</th>\n",
       "      <th>Operating System</th>\n",
       "      <th>Date Released</th>\n",
       "    </tr>\n",
       "  </thead>\n",
       "  <tbody>\n",
       "    <tr>\n",
       "      <th>0</th>\n",
       "      <td>A-Men 2</td>\n",
       "      <td>Bloober Team</td>\n",
       "      <td>Bloober Team</td>\n",
       "      <td>Adventure, Puzzle</td>\n",
       "      <td>Microsoft Windows</td>\n",
       "      <td>June 24, 2015</td>\n",
       "    </tr>\n",
       "    <tr>\n",
       "      <th>1</th>\n",
       "      <td>A-Train</td>\n",
       "      <td>Artdink</td>\n",
       "      <td>Artdink, Maxis, Ocean Software</td>\n",
       "      <td>Vehicle Simulation Game</td>\n",
       "      <td>Windows, Mac</td>\n",
       "      <td>1985</td>\n",
       "    </tr>\n",
       "    <tr>\n",
       "      <th>2</th>\n",
       "      <td>A-10 Cuba!</td>\n",
       "      <td>Parsoft Interactive</td>\n",
       "      <td>Activision</td>\n",
       "      <td>Flight simulator</td>\n",
       "      <td>Windows, Mac</td>\n",
       "      <td>November 30, 1996</td>\n",
       "    </tr>\n",
       "    <tr>\n",
       "      <th>3</th>\n",
       "      <td>A.D. 2044</td>\n",
       "      <td>R.M.P. Software</td>\n",
       "      <td>LK Avalon</td>\n",
       "      <td>Adventure</td>\n",
       "      <td>Microsoft Windows</td>\n",
       "      <td>September 6, 1996</td>\n",
       "    </tr>\n",
       "  </tbody>\n",
       "</table>\n",
       "</div>"
      ],
      "text/plain": [
       "         Name            Developer                        Producer  \\\n",
       "0     A-Men 2         Bloober Team                    Bloober Team   \n",
       "1     A-Train              Artdink  Artdink, Maxis, Ocean Software   \n",
       "2  A-10 Cuba!  Parsoft Interactive                      Activision   \n",
       "3   A.D. 2044      R.M.P. Software                       LK Avalon   \n",
       "\n",
       "                     Genre   Operating System      Date Released  \n",
       "0        Adventure, Puzzle  Microsoft Windows      June 24, 2015  \n",
       "1  Vehicle Simulation Game       Windows, Mac               1985  \n",
       "2         Flight simulator       Windows, Mac  November 30, 1996  \n",
       "3                Adventure  Microsoft Windows  September 6, 1996  "
      ]
     },
     "execution_count": 14,
     "metadata": {},
     "output_type": "execute_result"
    }
   ],
   "source": [
    "games.head(4)"
   ]
  },
  {
   "cell_type": "code",
   "execution_count": 15,
   "id": "4f2e5081-ff50-4846-a302-373d3a486974",
   "metadata": {},
   "outputs": [],
   "source": [
    "games = pd.DataFrame({col: (games[col].str.replace(' ', '') if games[col].dtype == \"object\" else games[col]) for col in games.columns})"
   ]
  },
  {
   "cell_type": "code",
   "execution_count": 16,
   "id": "661e297a-3d94-4b3d-a390-83d132bd9cb6",
   "metadata": {},
   "outputs": [
    {
     "data": {
      "text/html": [
       "<div>\n",
       "<style scoped>\n",
       "    .dataframe tbody tr th:only-of-type {\n",
       "        vertical-align: middle;\n",
       "    }\n",
       "\n",
       "    .dataframe tbody tr th {\n",
       "        vertical-align: top;\n",
       "    }\n",
       "\n",
       "    .dataframe thead th {\n",
       "        text-align: right;\n",
       "    }\n",
       "</style>\n",
       "<table border=\"1\" class=\"dataframe\">\n",
       "  <thead>\n",
       "    <tr style=\"text-align: right;\">\n",
       "      <th></th>\n",
       "      <th>Name</th>\n",
       "      <th>Developer</th>\n",
       "      <th>Producer</th>\n",
       "      <th>Genre</th>\n",
       "      <th>Operating System</th>\n",
       "      <th>Date Released</th>\n",
       "    </tr>\n",
       "  </thead>\n",
       "  <tbody>\n",
       "    <tr>\n",
       "      <th>0</th>\n",
       "      <td>A-Men2</td>\n",
       "      <td>BlooberTeam</td>\n",
       "      <td>BlooberTeam</td>\n",
       "      <td>Adventure,Puzzle</td>\n",
       "      <td>MicrosoftWindows</td>\n",
       "      <td>June24,2015</td>\n",
       "    </tr>\n",
       "    <tr>\n",
       "      <th>1</th>\n",
       "      <td>A-Train</td>\n",
       "      <td>Artdink</td>\n",
       "      <td>Artdink,Maxis,OceanSoftware</td>\n",
       "      <td>VehicleSimulationGame</td>\n",
       "      <td>Windows,Mac</td>\n",
       "      <td>1985</td>\n",
       "    </tr>\n",
       "    <tr>\n",
       "      <th>2</th>\n",
       "      <td>A-10Cuba!</td>\n",
       "      <td>ParsoftInteractive</td>\n",
       "      <td>Activision</td>\n",
       "      <td>Flightsimulator</td>\n",
       "      <td>Windows,Mac</td>\n",
       "      <td>November30,1996</td>\n",
       "    </tr>\n",
       "    <tr>\n",
       "      <th>3</th>\n",
       "      <td>A.D.2044</td>\n",
       "      <td>R.M.P.Software</td>\n",
       "      <td>LKAvalon</td>\n",
       "      <td>Adventure</td>\n",
       "      <td>MicrosoftWindows</td>\n",
       "      <td>September6,1996</td>\n",
       "    </tr>\n",
       "  </tbody>\n",
       "</table>\n",
       "</div>"
      ],
      "text/plain": [
       "        Name           Developer                     Producer  \\\n",
       "0     A-Men2         BlooberTeam                  BlooberTeam   \n",
       "1    A-Train             Artdink  Artdink,Maxis,OceanSoftware   \n",
       "2  A-10Cuba!  ParsoftInteractive                   Activision   \n",
       "3   A.D.2044      R.M.P.Software                     LKAvalon   \n",
       "\n",
       "                   Genre  Operating System    Date Released  \n",
       "0       Adventure,Puzzle  MicrosoftWindows      June24,2015  \n",
       "1  VehicleSimulationGame       Windows,Mac             1985  \n",
       "2        Flightsimulator       Windows,Mac  November30,1996  \n",
       "3              Adventure  MicrosoftWindows  September6,1996  "
      ]
     },
     "execution_count": 16,
     "metadata": {},
     "output_type": "execute_result"
    }
   ],
   "source": [
    "games.head(4)"
   ]
  },
  {
   "cell_type": "code",
   "execution_count": 34,
   "id": "3f553d2f-bf00-4312-a7b7-3fa9b36a34f9",
   "metadata": {},
   "outputs": [],
   "source": [
    "games = games.rename(columns={\n",
    "    'Operating System': 'OperatingSystem',\n",
    "    'Date Released': 'DateReleased',\n",
    "})"
   ]
  },
  {
   "cell_type": "code",
   "execution_count": 36,
   "id": "63b507e2-a483-4b7d-b6e4-e1f6f2cb98d8",
   "metadata": {},
   "outputs": [
    {
     "data": {
      "text/html": [
       "<div>\n",
       "<style scoped>\n",
       "    .dataframe tbody tr th:only-of-type {\n",
       "        vertical-align: middle;\n",
       "    }\n",
       "\n",
       "    .dataframe tbody tr th {\n",
       "        vertical-align: top;\n",
       "    }\n",
       "\n",
       "    .dataframe thead th {\n",
       "        text-align: right;\n",
       "    }\n",
       "</style>\n",
       "<table border=\"1\" class=\"dataframe\">\n",
       "  <thead>\n",
       "    <tr style=\"text-align: right;\">\n",
       "      <th></th>\n",
       "      <th>Name</th>\n",
       "      <th>Developer</th>\n",
       "      <th>Producer</th>\n",
       "      <th>Genre</th>\n",
       "      <th>OperatingSystem</th>\n",
       "      <th>DateReleased</th>\n",
       "    </tr>\n",
       "  </thead>\n",
       "  <tbody>\n",
       "    <tr>\n",
       "      <th>0</th>\n",
       "      <td>A-Men2</td>\n",
       "      <td>BlooberTeam</td>\n",
       "      <td>BlooberTeam</td>\n",
       "      <td>Adventure,Puzzle</td>\n",
       "      <td>MicrosoftWindows</td>\n",
       "      <td>June24,2015</td>\n",
       "    </tr>\n",
       "    <tr>\n",
       "      <th>1</th>\n",
       "      <td>A-Train</td>\n",
       "      <td>Artdink</td>\n",
       "      <td>Artdink,Maxis,OceanSoftware</td>\n",
       "      <td>VehicleSimulationGame</td>\n",
       "      <td>Windows,Mac</td>\n",
       "      <td>1985</td>\n",
       "    </tr>\n",
       "    <tr>\n",
       "      <th>2</th>\n",
       "      <td>A-10Cuba!</td>\n",
       "      <td>ParsoftInteractive</td>\n",
       "      <td>Activision</td>\n",
       "      <td>Flightsimulator</td>\n",
       "      <td>Windows,Mac</td>\n",
       "      <td>November30,1996</td>\n",
       "    </tr>\n",
       "    <tr>\n",
       "      <th>3</th>\n",
       "      <td>A.D.2044</td>\n",
       "      <td>R.M.P.Software</td>\n",
       "      <td>LKAvalon</td>\n",
       "      <td>Adventure</td>\n",
       "      <td>MicrosoftWindows</td>\n",
       "      <td>September6,1996</td>\n",
       "    </tr>\n",
       "    <tr>\n",
       "      <th>4</th>\n",
       "      <td>A.D.A.M.Life'sGreatestMysteries</td>\n",
       "      <td>ColumbiaHealthcareCorporation</td>\n",
       "      <td>ColumbiaHealthcareCorporation</td>\n",
       "      <td>Educational</td>\n",
       "      <td>MicrosoftWindows</td>\n",
       "      <td>1996</td>\n",
       "    </tr>\n",
       "  </tbody>\n",
       "</table>\n",
       "</div>"
      ],
      "text/plain": [
       "                              Name                      Developer  \\\n",
       "0                           A-Men2                    BlooberTeam   \n",
       "1                          A-Train                        Artdink   \n",
       "2                        A-10Cuba!             ParsoftInteractive   \n",
       "3                         A.D.2044                 R.M.P.Software   \n",
       "4  A.D.A.M.Life'sGreatestMysteries  ColumbiaHealthcareCorporation   \n",
       "\n",
       "                        Producer                  Genre   OperatingSystem  \\\n",
       "0                    BlooberTeam       Adventure,Puzzle  MicrosoftWindows   \n",
       "1    Artdink,Maxis,OceanSoftware  VehicleSimulationGame       Windows,Mac   \n",
       "2                     Activision        Flightsimulator       Windows,Mac   \n",
       "3                       LKAvalon              Adventure  MicrosoftWindows   \n",
       "4  ColumbiaHealthcareCorporation            Educational  MicrosoftWindows   \n",
       "\n",
       "      DateReleased  \n",
       "0      June24,2015  \n",
       "1             1985  \n",
       "2  November30,1996  \n",
       "3  September6,1996  \n",
       "4             1996  "
      ]
     },
     "execution_count": 36,
     "metadata": {},
     "output_type": "execute_result"
    }
   ],
   "source": [
    "games.head(5)"
   ]
  },
  {
   "cell_type": "code",
   "execution_count": 38,
   "id": "50b1c954-6a83-4c6d-9875-fa8334631a47",
   "metadata": {},
   "outputs": [
    {
     "data": {
      "text/plain": [
       "Developer\n",
       "Maxis                    30\n",
       "Valve                    20\n",
       "SquareEnix               18\n",
       "BlizzardEntertainment    18\n",
       "UbisoftMontreal          17\n",
       "                         ..\n",
       "EagleDynamics             1\n",
       "MimimiGames               1\n",
       "PositechGames             1\n",
       "ZombieStudios             1\n",
       "TribecaInteractive        1\n",
       "Name: count, Length: 583, dtype: int64"
      ]
     },
     "execution_count": 38,
     "metadata": {},
     "output_type": "execute_result"
    }
   ],
   "source": [
    "games['Developer'].value_counts()"
   ]
  },
  {
   "cell_type": "code",
   "execution_count": null,
   "id": "ecdb263a-0e68-4a4a-9ce3-cf24f2964b88",
   "metadata": {},
   "outputs": [],
   "source": []
  }
 ],
 "metadata": {
  "kernelspec": {
   "display_name": "Python 3 (ipykernel)",
   "language": "python",
   "name": "python3"
  },
  "language_info": {
   "codemirror_mode": {
    "name": "ipython",
    "version": 3
   },
   "file_extension": ".py",
   "mimetype": "text/x-python",
   "name": "python",
   "nbconvert_exporter": "python",
   "pygments_lexer": "ipython3",
   "version": "3.12.4"
  }
 },
 "nbformat": 4,
 "nbformat_minor": 5
}
